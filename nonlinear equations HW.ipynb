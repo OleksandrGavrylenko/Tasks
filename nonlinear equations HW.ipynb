{
 "cells": [
  {
   "cell_type": "markdown",
   "metadata": {},
   "source": [
    "# 1. Fixed-point iteration"
   ]
  },
  {
   "cell_type": "markdown",
   "metadata": {},
   "source": [
    "Rewrite $f(x) = 0$ as $x = \\phi(x)$ so that\n",
    "$$f(x_*) = 0 \\Leftrightarrow x_* = \\phi(x_*),$$\n",
    "where $x_*$ is the root of the first equation.\n",
    "\n",
    "The simplest way of costructing $\\phi(x)$ is\n",
    "$$\\phi(x) = x - \\alpha f(x).$$"
   ]
  },
  {
   "cell_type": "markdown",
   "metadata": {},
   "source": [
    "The iterative process\n",
    "$$x_{n+1} = \\phi(x_{n})$$\n",
    "converges to the root $x_*$ if $\\lim\\limits_{n \\rightarrow} x_n = x_*$."
   ]
  },
  {
   "cell_type": "markdown",
   "metadata": {},
   "source": [
    "Consider the following equation:\n",
    "\n",
    "$$\n",
    "\\sqrt{x} = \\cos{x}\n",
    "$$\n",
    "\n",
    "Plot the left-hand side and right-hand side of this equation, and localize the root graphically. Estimate the location of the root by visual inspection of the plot.\n",
    "\n",
    "Write a function which finds the solution using fixed-point iteration up to a predefined accuracy $\\epsilon$ in the form\n",
    "\n",
    "$$\n",
    "\\phi(x) = x - \\alpha f(x),\n",
    "$$\n",
    "\n",
    "where $\\alpha$ is the free parameter. Check the dependence of the number of iterations required for a given $\\epsilon$ on $\\alpha$ (visualize this dependence for three different values of $epsilon$). Compare your results to an expectation that the optimal value of $\\alpha$ is given by \n",
    "\n",
    "$$\n",
    "\\alpha = \\frac{2}{m + M}\n",
    "$$\n",
    "\n",
    "where $0 < m < |f'(x)| < M$ over the localization interval (highlight it on the plot)."
   ]
  },
  {
   "cell_type": "code",
   "execution_count": 29,
   "metadata": {},
   "outputs": [
    {
     "name": "stderr",
     "output_type": "stream",
     "text": [
      "/usr/lib/python3/dist-packages/ipykernel_launcher.py:5: RuntimeWarning: invalid value encountered in sqrt\n",
      "  \"\"\"\n"
     ]
    },
    {
     "data": {
      "image/png": "[encoded data removed]",
      "text/plain": [
       "<Figure size 432x288 with 1 Axes>"
      ]
     },
     "metadata": {
      "needs_background": "light"
     },
     "output_type": "display_data"
    },
    {
     "name": "stdout",
     "output_type": "stream",
     "text": [
      "0.6412421652574347 132\n"
     ]
    }
   ],
   "source": [
    "import matplotlib.pyplot as plt\n",
    "import numpy as np\n",
    "x = np.arange(-1, 1, 0.01)\n",
    "y1 = np.cos(x)\n",
    "y2 = np.sqrt(x)\n",
    "# y3 = -2*np.sin(x)*np.cos(x) Derivative of f(x)=cos(x)^2\n",
    "plt.plot(x,y1)\n",
    "plt.plot(x,y2)\n",
    "plt.plot(x,y3)\n",
    "plt.show()\n",
    "\n",
    "from math import cos, sqrt\n",
    "def fixedp(f,x0,alpha,required_eps=10e-4):\n",
    "    eps = 1\n",
    "    itr = 0\n",
    "    while(eps > required_eps):\n",
    "        x = f(x0)      \n",
    "        eps = abs(x0-alpha*x) \n",
    "        x0 = x\n",
    "        itr = itr + 1\n",
    "    return x, itr\n",
    "\n",
    "f = lambda x: cos(x)*cos(x)\n",
    "\n",
    "a1,b1 = fixedp(f, 0.5, 1)\n",
    "# a2,b2 = fixedp(f, 0.5, 0.5) Epsilon is converges to a value which is higher than required epsilon value \n",
    "# a3,b3 = fixedp(f, 0.5, 2) The same situation.\n",
    "print(a1,b1)\n",
    "# print(a2,b2)\n",
    "# print(a3,b3)"
   ]
  },
  {
   "cell_type": "markdown",
   "metadata": {},
   "source": [
    "Find the solution (and number of iterations) of the equation above using fixed-point iteration for $\\alpha = 1$ and $\\epsilon = 0.001$ (for Google form)."
   ]
  },
  {
   "cell_type": "markdown",
   "metadata": {},
   "source": [
    "# 2. Inverse quadratic interpolation"
   ]
  },
  {
   "cell_type": "markdown",
   "metadata": {},
   "source": [
    "Suppose we have three different consequitive iterates $x_0$, $x_1$ and $x_2$ and a function $f(x)$: $y_i = f(x_i)$.\n",
    "\n",
    "Construct a unique parabola which passes through $(x_i, y_i)$. Take as a next approximation, $x_3$, the root of this parabola.\n",
    "\n",
    "In order not to solve another nonlinear equation on each step, use an inverse interpolation: construct a second order polynomial $Q(y)$ such that $Q(y_i) = x_i$. Then $x_3 = Q(0)$."
   ]
  },
  {
   "cell_type": "markdown",
   "metadata": {},
   "source": [
    "Now, write a function which finds the solution using inverse quadratic interpolation up to a predefined accuracy $\\epsilon$."
   ]
  },
  {
   "cell_type": "code",
   "execution_count": 36,
   "metadata": {},
   "outputs": [
    {
     "name": "stdout",
     "output_type": "stream",
     "text": [
      "root is: 0.860333575377475 steps taken: 2\n"
     ]
    }
   ],
   "source": [
    "from math import cos, sin\n",
    "def inv_quad_interpolation(func, point_0, point_1, point_2, eps):\n",
    "    itr = 0\n",
    "    x0 = point_0\n",
    "    x1 = point_1\n",
    "    x2 = point_2\n",
    "    while abs(x1-x0) > eps: # last guess and new guess are v close\n",
    "        fx0 = f(x0)\n",
    "        fx1 = f(x1)\n",
    "        fx2 = f(x2)\n",
    "        L0 = (x0 * fx1 * fx2) / ((fx0 - fx1) * (fx0 - fx2))\n",
    "        L1 = (x1 * fx0 * fx2) / ((fx1 - fx0) * (fx1 - fx2))\n",
    "        L2 = (x2 * fx1 * fx0) / ((fx2 - fx0) * (fx2 - fx1))\n",
    "        new = L0 + L1 + L2\n",
    "        x0, x1, x2 = new, x0, x1\n",
    "        itr += 1\n",
    "    return x0, itr\n",
    "\n",
    "f = lambda x: x-(cos(x)/sin(x))\n",
    "\n",
    "root, iterations = inv_quad_interpolation(f, 0.6, 0.8, 1, 10e-4)\n",
    "print(\"root is:\", root, \"steps taken:\", iterations)"
   ]
  },
  {
   "cell_type": "markdown",
   "metadata": {},
   "source": [
    "Now implement your function to solve equation\n",
    "$$x = \\mbox{ctg}(x)$$\n",
    "in the interval $x \\in (0.5, 1)$ with $x_0 = 0.6$, $x_1 = 0.8$ and $x_2 = 1$. What is the solution for $\\epsilon = 0.001$? How many iterations did it take to find it? (You will need the answers for Google Form)."
   ]
  },
  {
   "cell_type": "markdown",
   "metadata": {},
   "source": [
    "# 3. Newton-Raphson method"
   ]
  },
  {
   "cell_type": "markdown",
   "metadata": {},
   "source": [
    "Implement the Newton-Raphson method to solve equation $z^3 - 1 = 0$ for complex $z$. Visualize and describe the convergence domain."
   ]
  },
  {
   "cell_type": "code",
   "execution_count": 50,
   "metadata": {},
   "outputs": [
    {
     "name": "stderr",
     "output_type": "stream",
     "text": [
      "Clipping input data to the valid range for imshow with RGB data ([0..1] for floats or [0..255] for integers).\n"
     ]
    },
    {
     "data": {
      "image/png": "[encoded data removed]",
      "text/plain": [
       "<Figure size 432x288 with 1 Axes>"
      ]
     },
     "metadata": {
      "needs_background": "light"
     },
     "output_type": "display_data"
    }
   ],
   "source": [
    "import math\n",
    "\n",
    "def equation(z):\n",
    "    return z ** 3 - 1\n",
    "\n",
    "\n",
    "def newton_raphson(width, height, zoom=1, x_off=0, y_off=0, niter=256):\n",
    "    \"\"\" Fractals using newton-raphson \"\"\"\n",
    "    # drawing area\n",
    "    xa, xb, ya, yb = -2.5, 2.5, -2.5, 2.5\n",
    "    pixels = np.arange(width * height * 3, dtype=np.uint32).reshape(height, width, 3)\n",
    "    h = 1e-7  # step size for numerical derivative\n",
    "    eps = 1e-3  # max error allowed\n",
    "    r1 = 1\n",
    "    r2 = complex(-0.5, math.sin(2 * math.pi / 3))\n",
    "    r3 = complex(-0.5, -1 * math.sin(2 * math.pi / 3))\n",
    "\n",
    "    multcol = 5\n",
    "    for y in range(height):\n",
    "        zy = (y + y_off) * (yb - ya) / (zoom * (height - 1)) + ya\n",
    "\n",
    "        for x in range(width):\n",
    "            zx = (x + x_off) * (xb - xa) / (zoom * (width - 1)) + xa\n",
    "\n",
    "            z = complex(zx, zy)\n",
    "            count = 0\n",
    "\n",
    "            for i in range(niter):\n",
    "                dz = (equation(z + complex(h, h)) - equation(z)) / complex(h, h)\n",
    "                if dz == 0:\n",
    "                    break\n",
    "\n",
    "                count += 1\n",
    "                if count > 255:\n",
    "                    break\n",
    "\n",
    "                znext = z - equation(z) / dz  # Newton iteration\n",
    "                if abs(znext - z) < eps:  # stop when close enough to any root\n",
    "                    break\n",
    "\n",
    "                z = znext\n",
    "\n",
    "            if abs(z - r1) < eps:\n",
    "                pixels[y, x] = (255 - count * multcol, 0, 0)\n",
    "            elif abs(z - r2) <= eps:\n",
    "                pixels[y, x] = (0, 255 - count * multcol, 0)\n",
    "            elif abs(z - r3) <= eps:\n",
    "                pixels[y, x] = (0, 0, 255 - count * multcol)\n",
    "    return pixels\n",
    "\n",
    "\n",
    "pimg = newton_raphson(width=1024, height=1024, niter=1024, zoom=1, x_off=0, y_off=0)\n",
    "plt.axis('off')\n",
    "plt.imshow(pimg)\n",
    "plt.show()\n"
   ]
  },
  {
   "cell_type": "markdown",
   "metadata": {},
   "source": [
    "Hint: visualize the convergence domain as a scatter plot of coloured points (the colour of the point depends on the root it converged to)."
   ]
  }
 ],
 "metadata": {
  "kernelspec": {
   "display_name": "Python 3",
   "language": "python",
   "name": "python3"
  },
  "language_info": {
   "codemirror_mode": {
    "name": "ipython",
    "version": 3
   },
   "file_extension": ".py",
   "mimetype": "text/x-python",
   "name": "python",
   "nbconvert_exporter": "python",
   "pygments_lexer": "ipython3",
   "version": "3.7.3"
  }
 },
 "nbformat": 4,
 "nbformat_minor": 2
}
