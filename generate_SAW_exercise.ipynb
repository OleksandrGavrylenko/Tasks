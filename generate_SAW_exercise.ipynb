{
 "cells": [
  {
   "cell_type": "markdown",
   "metadata": {},
   "source": [
    "# I. Generate all lattice walks, 2D square lattice"
   ]
  },
  {
   "cell_type": "code",
   "execution_count": 1,
   "metadata": {},
   "outputs": [],
   "source": [
    "# This I showed in class:\n",
    "\n",
    "steps = [(1, 0), (-1, 0), (0, 1), (0, -1)]\n",
    "\n",
    "def generate_walks(path, L):\n",
    "    \"\"\"Generate all random walks on the 2D square lattice.\"\"\"\n",
    "    if L == 0:\n",
    "        print(path)\n",
    "    else:\n",
    "        for dx, dy in steps:\n",
    "            x, y = path[-1]\n",
    "            pp = path.copy()\n",
    "            pp.append((x + dx, y + dy))\n",
    "            generate_walks(pp, L - 1)"
   ]
  },
  {
   "cell_type": "code",
   "execution_count": 2,
   "metadata": {},
   "outputs": [
    {
     "name": "stdout",
     "output_type": "stream",
     "text": [
      "[(0, 0), (1, 0), (2, 0)]\n",
      "[(0, 0), (1, 0), (0, 0)]\n",
      "[(0, 0), (1, 0), (1, 1)]\n",
      "[(0, 0), (1, 0), (1, -1)]\n",
      "[(0, 0), (-1, 0), (0, 0)]\n",
      "[(0, 0), (-1, 0), (-2, 0)]\n",
      "[(0, 0), (-1, 0), (-1, 1)]\n",
      "[(0, 0), (-1, 0), (-1, -1)]\n",
      "[(0, 0), (0, 1), (1, 1)]\n",
      "[(0, 0), (0, 1), (-1, 1)]\n",
      "[(0, 0), (0, 1), (0, 2)]\n",
      "[(0, 0), (0, 1), (0, 0)]\n",
      "[(0, 0), (0, -1), (1, -1)]\n",
      "[(0, 0), (0, -1), (-1, -1)]\n",
      "[(0, 0), (0, -1), (0, 0)]\n",
      "[(0, 0), (0, -1), (0, -2)]\n"
     ]
    }
   ],
   "source": [
    "generate_walks([(0, 0)], 2)"
   ]
  },
  {
   "cell_type": "markdown",
   "metadata": {},
   "source": [
    "## Store the walks\n",
    "\n",
    "Printing walks is nice, but not very useful. Better construct a list of all walks, for postprocessing. To this end, add a `cache` parameter, which stores all generated walks."
   ]
  },
  {
   "cell_type": "code",
   "execution_count": 5,
   "metadata": {},
   "outputs": [],
   "source": [
    "steps = [(1, 0), (-1, 0), (0, 1), (0, -1)]\n",
    "\n",
    "def generate_walks_stored(path, L, cache):\n",
    "    if L == 0:\n",
    "        cache.append(path)\n",
    "    else:\n",
    "        for dx, dy in steps:\n",
    "            x, y = path[-1]\n",
    "            xy_new = (x + dx, y + dy)\n",
    "            pp = path.copy()\n",
    "            pp.append(xy_new)\n",
    "            generate_walks_stored(pp, L - 1, cache)"
   ]
  },
  {
   "cell_type": "code",
   "execution_count": 6,
   "metadata": {},
   "outputs": [
    {
     "data": {
      "text/plain": [
       "16"
      ]
     },
     "execution_count": 6,
     "metadata": {},
     "output_type": "execute_result"
    }
   ],
   "source": [
    "cache = []\n",
    "generate_walks_stored([(0, 0)], 2, cache)\n",
    "len(cache)"
   ]
  },
  {
   "cell_type": "code",
   "execution_count": 7,
   "metadata": {},
   "outputs": [
    {
     "data": {
      "text/plain": [
       "[[(0, 0), (1, 0), (2, 0)],\n",
       " [(0, 0), (1, 0), (0, 0)],\n",
       " [(0, 0), (1, 0), (1, 1)],\n",
       " [(0, 0), (1, 0), (1, -1)],\n",
       " [(0, 0), (-1, 0), (0, 0)],\n",
       " [(0, 0), (-1, 0), (-2, 0)],\n",
       " [(0, 0), (-1, 0), (-1, 1)],\n",
       " [(0, 0), (-1, 0), (-1, -1)],\n",
       " [(0, 0), (0, 1), (1, 1)],\n",
       " [(0, 0), (0, 1), (-1, 1)],\n",
       " [(0, 0), (0, 1), (0, 2)],\n",
       " [(0, 0), (0, 1), (0, 0)],\n",
       " [(0, 0), (0, -1), (1, -1)],\n",
       " [(0, 0), (0, -1), (-1, -1)],\n",
       " [(0, 0), (0, -1), (0, 0)],\n",
       " [(0, 0), (0, -1), (0, -2)]]"
      ]
     },
     "execution_count": 7,
     "metadata": {},
     "output_type": "execute_result"
    }
   ],
   "source": [
    "cache"
   ]
  },
  {
   "cell_type": "markdown",
   "metadata": {},
   "source": [
    "## Task 0\n",
    "\n",
    "Compute the average end-to-end distance of random walks of a given length. What is the scaling of the end-to-end distance with the length of the walk? What is the scaling of the mean *square* end-to-end distance with the length?"
   ]
  },
  {
   "cell_type": "markdown",
   "metadata": {},
   "source": [
    "<font color='red'> (See in the papers, prove) </font>"
   ]
  },
  {
   "cell_type": "code",
   "execution_count": 7,
   "metadata": {},
   "outputs": [
    {
     "name": "stdout",
     "output_type": "stream",
     "text": [
      "1 - Distance: 1.0 Mean square:  0.7071067811865476\n",
      "2 - Distance: 2.0 Mean square:  1.4142135623730951\n",
      "3 - Distance: 1.0 Mean square:  0.7071067811865476\n",
      "4 - Distance: 2.0 Mean square:  1.4142135623730951\n",
      "5 - Distance: 1.0 Mean square:  0.7071067811865476\n",
      "6 - Distance: 1.4142135623730951 Mean square:  1.0\n",
      "7 - Distance: 2.23606797749979 Mean square:  1.5811388300841898\n",
      "8 - Distance: 3.1622776601683795 Mean square:  2.23606797749979\n",
      "9 - Distance: 1.0 Mean square:  0.7071067811865476\n"
     ]
    }
   ],
   "source": [
    "import math\n",
    "import random\n",
    "\n",
    "\n",
    "def generate_walk(l):\n",
    "    x, y = 0, 0\n",
    "    path = []\n",
    "    for _ in range(0, l):\n",
    "        r = random.randint(0, 3)\n",
    "        if r == 0:\n",
    "            x += 1\n",
    "        if r == 1:\n",
    "            x -= 1\n",
    "        if r == 2:\n",
    "            y += 1\n",
    "        if r == 3:\n",
    "            y -= 1\n",
    "    dist = math.sqrt(x ** 2 + y ** 2)\n",
    "    mean_square_dist = math.sqrt(1/2 * (x**2 + y**2))\n",
    "    return dist, mean_square_dist\n",
    "\n",
    "\n",
    "for k in range(1, 10):\n",
    "    distance, mean_distance = generate_walk(k)\n",
    "    print(k, '- Distance:', distance, 'Mean square: ', mean_distance)"
   ]
  },
  {
   "cell_type": "markdown",
   "metadata": {},
   "source": [
    "# I. Generate all SAWs on a 2D square lattice\n",
    "\n",
    "A self-avoiding walk is a random walk where a lattice site can only be visited once."
   ]
  },
  {
   "cell_type": "code",
   "execution_count": 5,
   "metadata": {},
   "outputs": [],
   "source": [
    "steps = [(1, 0), (-1, 0), (0, 1), (0, -1)]\n",
    "\n",
    "import math\n",
    "import random\n",
    "\n",
    "\n",
    "def choose_step(x, y):\n",
    "    r = random.randint(0, 3)\n",
    "    if r == 0:\n",
    "        x += 1\n",
    "    if r == 1:\n",
    "        x -= 1\n",
    "    if r == 2:\n",
    "        y += 1\n",
    "    if r == 3:\n",
    "        y -= 1\n",
    "    return x, y\n",
    "\n",
    "\n",
    "def generate_sa_walk(l):\n",
    "    x, y = 0, 0\n",
    "    path = [(0, 0)]\n",
    "    for _ in range(0, l):\n",
    "        while (x, y) in path:\n",
    "            x, y = choose_step(x, y)\n",
    "        path.append((x, y))\n",
    "    dist = math.sqrt(x ** 2 + y ** 2)\n",
    "    mean_square_dist = math.sqrt(1/2 * (x**2 + y**2))\n",
    "    return dist, mean_square_dist"
   ]
  },
  {
   "cell_type": "markdown",
   "metadata": {},
   "source": [
    "## Task 1\n",
    "\n",
    "How many walks of a given length are there? What is the mean end-to-end distance of walks of a given length? What is mean *square* of the end-to-end distance?"
   ]
  },
  {
   "cell_type": "markdown",
   "metadata": {},
   "source": [
    "<font color='red'> (See in the papers, prove) </font>"
   ]
  },
  {
   "cell_type": "code",
   "execution_count": 6,
   "metadata": {},
   "outputs": [
    {
     "name": "stdout",
     "output_type": "stream",
     "text": [
      "1 - Distance: 1.0 Mean square:  0.7071067811865476\n",
      "2 - Distance: 2.0 Mean square:  1.4142135623730951\n",
      "3 - Distance: 2.23606797749979 Mean square:  1.5811388300841898\n",
      "4 - Distance: 2.0 Mean square:  1.4142135623730951\n",
      "5 - Distance: 3.0 Mean square:  2.1213203435596424\n",
      "6 - Distance: 2.23606797749979 Mean square:  1.5811388300841898\n",
      "7 - Distance: 3.605551275463989 Mean square:  2.5495097567963922\n",
      "8 - Distance: 1.4142135623730951 Mean square:  1.0\n",
      "9 - Distance: 2.23606797749979 Mean square:  1.5811388300841898\n"
     ]
    }
   ],
   "source": [
    "for k in range(1, 10):\n",
    "    distance, mean_distance = generate_sa_walk(k)\n",
    "    print(k, '- Distance:', distance, 'Mean square: ', mean_distance)"
   ]
  },
  {
   "cell_type": "markdown",
   "metadata": {},
   "source": [
    "## Extra tasks (for fun, no credit, a possible basis of a course project)\n",
    "\n",
    "1. Generate a self-avoiding walk on triangular lattice.\n",
    "2. Rewrite the recursive algorithm to use a queue."
   ]
  },
  {
   "cell_type": "code",
   "execution_count": null,
   "metadata": {},
   "outputs": [],
   "source": []
  }
 ],
 "metadata": {
  "kernelspec": {
   "display_name": "Python 3",
   "language": "python",
   "name": "python3"
  },
  "language_info": {
   "codemirror_mode": {
    "name": "ipython",
    "version": 3
   },
   "file_extension": ".py",
   "mimetype": "text/x-python",
   "name": "python",
   "nbconvert_exporter": "python",
   "pygments_lexer": "ipython3",
   "version": "3.7.3"
  }
 },
 "nbformat": 4,
 "nbformat_minor": 2
}
